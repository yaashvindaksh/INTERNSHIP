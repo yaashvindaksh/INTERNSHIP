{
 "cells": [
  {
   "cell_type": "code",
   "execution_count": 73,
   "id": "7f89fd06",
   "metadata": {},
   "outputs": [
    {
     "name": "stdout",
     "output_type": "stream",
     "text": [
      "Python:Exercises:PHP:exercises:\n"
     ]
    }
   ],
   "source": [
    "# question no.1\n",
    "\n",
    "import re\n",
    "\n",
    "text='Python Exercises,PHP exercises.'\n",
    "print(re.sub(\"[ ,.]\",\":\",text))"
   ]
  },
  {
   "cell_type": "code",
   "execution_count": 4,
   "id": "8039b7fb",
   "metadata": {},
   "outputs": [
    {
     "name": "stdout",
     "output_type": "stream",
     "text": [
      "['example', 'eates', 'an', 'as', 'ependance']\n"
     ]
    }
   ],
   "source": [
    "# question no.2\n",
    "import re\n",
    "#input.\n",
    "text=\"The following example creates an history of india has Got independance of 1947 .\"\n",
    "list= re.findall(\"[ae]\\w+\",text)\n",
    "print(list)"
   ]
  },
  {
   "cell_type": "code",
   "execution_count": 74,
   "id": "760058ab",
   "metadata": {},
   "outputs": [
    {
     "name": "stdout",
     "output_type": "stream",
     "text": [
      "['quick', 'brown', 'jumps', 'over', 'lazy']\n"
     ]
    }
   ],
   "source": [
    "#question no.3\n",
    "import re \n",
    "text= 'The quick brown fox jumps over the lazy cat.'\n",
    "print(re.findall (r\"\\b\\w{4,}\\b\",text))\n"
   ]
  },
  {
   "cell_type": "code",
   "execution_count": 7,
   "id": "207d19b4",
   "metadata": {},
   "outputs": [
    {
     "name": "stdout",
     "output_type": "stream",
     "text": [
      "['the', 'quick', 'brown', 'fox', 'jumps', 'over', 'the', 'lazy', 'dog']\n"
     ]
    }
   ],
   "source": [
    "#question no.4\n",
    "import re\n",
    "text= 'the quick brown fox jumps over the lazy dog'\n",
    "print (re.findall(r\"\\b\\w{3,5}\\b\",text))\n"
   ]
  },
  {
   "cell_type": "code",
   "execution_count": 46,
   "id": "eccf8d5b",
   "metadata": {},
   "outputs": [
    {
     "name": "stdout",
     "output_type": "stream",
     "text": [
      "example\n",
      "hr@fliprobo\n",
      "github\n",
      "hello\n",
      "data\n"
     ]
    }
   ],
   "source": [
    "#question no.6\n",
    "import re\n",
    "items = [\"example (.com)\", \"hr@fliprobo(.com)\", \"github (.com)\", \"hello(dtat science world)\",\"data(scientist)\"]\n",
    "for item in items:\n",
    "    print(re.sub(r\" ?\\([^)]+\\)\", \"\", item))\n"
   ]
  },
  {
   "cell_type": "code",
   "execution_count": 45,
   "id": "74eb31f8",
   "metadata": {},
   "outputs": [
    {
     "name": "stdout",
     "output_type": "stream",
     "text": [
      "['Importance', 'Of', 'Regular', 'Expressions', 'In', 'Python']\n"
     ]
    }
   ],
   "source": [
    "#question no.7\n",
    "import re \n",
    "text=\"ImportanceOfRegularExpressionsInPython\"\n",
    "print(re.findall ('[A-Z][^A-Z]*',text))"
   ]
  },
  {
   "cell_type": "code",
   "execution_count": 24,
   "id": "2e559711",
   "metadata": {},
   "outputs": [
    {
     "name": "stdout",
     "output_type": "stream",
     "text": [
      "['nidhinlal@gmail.com']\n"
     ]
    }
   ],
   "source": [
    "#question no.10\n",
    "import re\n",
    "b= \"nidhi nidhinlal@gmail.com\"\n",
    "lst=re.findall('\\S+@\\S+',b)\n",
    "print(lst)"
   ]
  },
  {
   "cell_type": "code",
   "execution_count": 25,
   "id": "1d6dc832",
   "metadata": {},
   "outputs": [
    {
     "name": "stdout",
     "output_type": "stream",
     "text": [
      "True\n",
      "False\n"
     ]
    }
   ],
   "source": [
    "#question no.12\n",
    "import re\n",
    "def match_num(string):\n",
    "    text = re.compile(r\"^5\")\n",
    "    if text.match(string):\n",
    "        return True\n",
    "    else:\n",
    "        return False\n",
    "print(match_num('5-2345861'))\n",
    "print(match_num('6-2345861'))"
   ]
  },
  {
   "cell_type": "code",
   "execution_count": 12,
   "id": "ca84a8d1",
   "metadata": {},
   "outputs": [
    {
     "name": "stdout",
     "output_type": "stream",
     "text": [
      "216.8.94.196\n"
     ]
    }
   ],
   "source": [
    "#question no.13\n",
    "import re\n",
    "ip = \"216.08.094.196\"\n",
    "string = re.sub('\\.[0]*', '.', ip)\n",
    "print(string)"
   ]
  },
  {
   "cell_type": "code",
   "execution_count": 27,
   "id": "326d7b44",
   "metadata": {},
   "outputs": [
    {
     "name": "stdout",
     "output_type": "stream",
     "text": [
      "Searching for \"fox\" in \"The quick brown fox jumps over the lazy dog.\" ->\n",
      "Matched!\n",
      "Searching for \"dog\" in \"The quick brown fox jumps over the lazy dog.\" ->\n",
      "Matched!\n",
      "Searching for \"horse\" in \"The quick brown fox jumps over the lazy dog.\" ->\n",
      "Not Matched!\n"
     ]
    }
   ],
   "source": [
    "#QUESTION NO.15\n",
    "import re\n",
    "patterns = [ 'fox', 'dog', 'horse' ]\n",
    "text = 'The quick brown fox jumps over the lazy dog.'\n",
    "for pattern in patterns:\n",
    "    print('Searching for \"%s\" in \"%s\" ->' % (pattern, text),)\n",
    "    if re.search(pattern,  text):\n",
    "        print('Matched!')\n",
    "    else:\n",
    "        print('Not Matched!')"
   ]
  },
  {
   "cell_type": "code",
   "execution_count": null,
   "id": "d8477aa7",
   "metadata": {},
   "outputs": [],
   "source": []
  },
  {
   "cell_type": "code",
   "execution_count": null,
   "id": "19586395",
   "metadata": {},
   "outputs": [],
   "source": []
  },
  {
   "cell_type": "code",
   "execution_count": null,
   "id": "81ba06d7",
   "metadata": {},
   "outputs": [],
   "source": [
    "\n",
    "\n"
   ]
  },
  {
   "cell_type": "code",
   "execution_count": null,
   "id": "2e0774c4",
   "metadata": {},
   "outputs": [],
   "source": []
  },
  {
   "cell_type": "code",
   "execution_count": 3,
   "id": "145bf52f",
   "metadata": {},
   "outputs": [
    {
     "name": "stdout",
     "output_type": "stream",
     "text": [
      "Found \"fox\" in \"The quik brown fox jumps over the lazy dog.\" from 15 to 18 \n"
     ]
    }
   ],
   "source": [
    "#question no.16\n",
    "import re\n",
    "pattern = 'fox'\n",
    "text = 'The quik brown fox jumps over the lazy dog.'\n",
    "match = re.search(pattern, text)\n",
    "s = match.start()\n",
    "e = match.end()\n",
    "print('Found \"%s\" in \"%s\" from %d to %d ' % \\\n",
    "    (match.re.pattern, match.string, s, e))"
   ]
  },
  {
   "cell_type": "code",
   "execution_count": 5,
   "id": "608b44b0",
   "metadata": {},
   "outputs": [
    {
     "name": "stdout",
     "output_type": "stream",
     "text": [
      "Found \"exercises\"\n",
      "Found \"exercises\"\n",
      "Found \"exercises\"\n"
     ]
    }
   ],
   "source": [
    "question no.17\n",
    "# import re\n",
    "text = 'Python exercises, PHP exercises,C# exercises'\n",
    "pattern='exercises'\n",
    "for match in re.findall(pattern,text):\n",
    "    print ('Found \"%s\"' %match)"
   ]
  },
  {
   "cell_type": "code",
   "execution_count": 7,
   "id": "d8f7fc15",
   "metadata": {},
   "outputs": [
    {
     "name": "stdout",
     "output_type": "stream",
     "text": [
      "Original date in YYY-MM-DD Format:  2025-03-02\n",
      "New date in DD-MM-YYYY Format:  02-03-2025\n"
     ]
    }
   ],
   "source": [
    "#question no.19\n",
    "import re\n",
    "def change_date_format(dt):\n",
    "        return re.sub(r'(\\d{4})-(\\d{1,2})-(\\d{1,2})', '\\\\3-\\\\2-\\\\1', dt)\n",
    "dt1 = \"2025-03-02\"\n",
    "print(\"Original date in YYY-MM-DD Format: \",dt1)\n",
    "print(\"New date in DD-MM-YYYY Format: \",change_date_format(dt1))"
   ]
  },
  {
   "cell_type": "code",
   "execution_count": 10,
   "id": "ceca5614",
   "metadata": {},
   "outputs": [
    {
     "name": "stdout",
     "output_type": "stream",
     "text": [
      "True\n",
      "True\n",
      "True\n",
      "True\n",
      "False\n",
      "False\n",
      "False\n"
     ]
    }
   ],
   "source": [
    "#question no.20\n",
    "def is_decimal(num):\n",
    "    import re\n",
    "    dnumre = re.compile(r\"\"\"^[0-9]+(\\.[0-9]{1,2})?$\"\"\")\n",
    "    result = dnumre.search(num)\n",
    "    return bool(result)\n",
    "\n",
    "print(is_decimal('124.11'))\n",
    "print(is_decimal('124.1'))\n",
    "print(is_decimal('124.1'))\n",
    "print(is_decimal('0.21'))\n",
    "\n",
    "print(is_decimal('123.1214'))\n",
    "print(is_decimal('3.124587'))\n",
    "print(is_decimal('e666.86'))"
   ]
  },
  {
   "cell_type": "code",
   "execution_count": 19,
   "id": "e38d93d4",
   "metadata": {},
   "outputs": [
    {
     "name": "stdout",
     "output_type": "stream",
     "text": [
      "60\n",
      "Index position: 41\n",
      "4\n",
      "Index position: 59\n"
     ]
    }
   ],
   "source": [
    "#question no.21\n",
    "import re\n",
    "text = \"The indian cricket team have capacity of 60 memberes. Four 4 memberes are then added to the List.\"\n",
    "\n",
    "for m in re.finditer(\"\\d+\", text):\n",
    "    print(m.group(0))\n",
    "    print(\"Index position:\", m.start())"
   ]
  },
  {
   "cell_type": "code",
   "execution_count": 72,
   "id": "e8c7128e",
   "metadata": {},
   "outputs": [
    {
     "name": "stdout",
     "output_type": "stream",
     "text": [
      "regular Expression\n",
      "Python Exercises Is An Important\n",
      "Topic In Python\n"
     ]
    }
   ],
   "source": [
    "#question no.23\n",
    "import re\n",
    "def capital_words_spaces(str1):\n",
    "  return re.sub(r\"(\\w)([A-Z])\", r\"\\1 \\2\", str1)\n",
    "\n",
    "print(capital_words_spaces(\"regularExpression\"))\n",
    "print(capital_words_spaces(\"PythonExercisesIsAnImportant\"))\n",
    "print(capital_words_spaces(\"TopicInPython\"))"
   ]
  },
  {
   "cell_type": "code",
   "execution_count": 23,
   "id": "33d45cde",
   "metadata": {},
   "outputs": [
    {
     "name": "stdout",
     "output_type": "stream",
     "text": [
      "Found a match!\n",
      "Found a match!\n",
      "Not matched!\n",
      "Not matched!\n",
      "Not matched!\n",
      "Found a match!\n"
     ]
    }
   ],
   "source": [
    "#question no.24\n",
    "import re\n",
    "def text_match(text):\n",
    "        patterns = '[A-Z]+[a-z]+$'\n",
    "        if re.search(patterns, text):\n",
    "                return 'Found a match!'\n",
    "        else:\n",
    "                return('Not matched!')\n",
    "print(text_match(\"AaBbGg\"))\n",
    "print(text_match(\"Python\"))\n",
    "print(text_match(\"python\"))\n",
    "print(text_match(\"PYTHON\"))\n",
    "print(text_match(\"aA\"))\n",
    "print(text_match(\"Aa\"))"
   ]
  },
  {
   "cell_type": "code",
   "execution_count": 27,
   "id": "9d32b75f",
   "metadata": {},
   "outputs": [
    {
     "name": "stdout",
     "output_type": "stream",
     "text": [
      "Hellow world\n"
     ]
    }
   ],
   "source": [
    "#question no.25\n",
    "import re\n",
    "\n",
    "def removeDuplicatesFromText(text):\n",
    "    regex = r'\\b(\\w+)(?:\\W+\\1\\b)+' \n",
    "    return re.sub(regex, r'\\1', text, flags=re.IGNORECASE)\n",
    "\n",
    "str1 = \"Hellow hellow world world\"\n",
    "print(removeDuplicatesFromText(str1))"
   ]
  },
  {
   "cell_type": "code",
   "execution_count": 28,
   "id": "76c21722",
   "metadata": {},
   "outputs": [
    {
     "name": "stdout",
     "output_type": "stream",
     "text": [
      "The given string is\n",
      "Tutorialspoint123\n",
      "Checking if the given string is alphanumeric\n",
      "True\n"
     ]
    }
   ],
   "source": [
    "#question no.26\n",
    "import re\n",
    "\n",
    "str1 = \"Tutorialspoint123\"\n",
    "print(\"The given string is\")\n",
    "print(str1)\n",
    "\n",
    "print(\"Checking if the given string is alphanumeric\")\n",
    "print(bool(re.match('^[a-zA-Z0-9]+$', str1)))"
   ]
  },
  {
   "cell_type": "code",
   "execution_count": 56,
   "id": "dad1f651",
   "metadata": {},
   "outputs": [
    {
     "name": "stdout",
     "output_type": "stream",
     "text": [
      "The hashtags in \"RT @KAPIL_KAUSHIK #DOLTIWAL I MEAN #xyabc is hurt by #demonetization as the same has rendered useless\" are :\n",
      "DOLTIWAL\n",
      "xyabc\n",
      "demonetization\n"
     ]
    }
   ],
   "source": [
    "#question no.27\n",
    "import re\n",
    " \n",
    " \n",
    " \n",
    "def extract_hashtags(text):\n",
    " \n",
    "    regex = \"#(\\w+)\"\n",
    " \n",
    "    hashtag_list = re.findall(regex, text)\n",
    " \n",
    "\n",
    "    print(\"The hashtags in \\\"\" + text + \"\\\" are :\")\n",
    "    for hashtag in hashtag_list:\n",
    "        print(hashtag)\n",
    " \n",
    " \n",
    "if __name__ == \"__main__\":\n",
    "    \n",
    "    text1 = \"RT @KAPIL_KAUSHIK #DOLTIWAL I MEAN #xyabc is hurt by #demonetization as the same has rendered useless\"\n",
    "    \n",
    "    extract_hashtags(text1)"
   ]
  },
  {
   "cell_type": "code",
   "execution_count": 58,
   "id": "f34bc499",
   "metadata": {},
   "outputs": [
    {
     "name": "stdout",
     "output_type": "stream",
     "text": [
      "example.com\n"
     ]
    }
   ],
   "source": [
    "#question no.5\n",
    "document = \"example(.com)\"\n",
    "document = re.sub(r'[()]', '', document)\n",
    "\n",
    "print(document)"
   ]
  },
  {
   "cell_type": "code",
   "execution_count": 67,
   "id": "2b11d3fc",
   "metadata": {},
   "outputs": [
    {
     "name": "stdout",
     "output_type": "stream",
     "text": [
      "Regular Expression1is An Important Topic3 In Python\n"
     ]
    }
   ],
   "source": [
    "#question no.9\n",
    "import re\n",
    "def capital_words_spaces(str1):\n",
    "  return re.sub(r\"(\\w)([A-Z])\",  r\"\\1 \\2\", str1)\n",
    "\n",
    "print(capital_words_spaces(\"RegularExpression1isAnImportantTopic3InPython\"))"
   ]
  },
  {
   "cell_type": "code",
   "execution_count": 70,
   "id": "c27471e3",
   "metadata": {},
   "outputs": [
    {
     "name": "stdout",
     "output_type": "stream",
     "text": [
      "Max_value: 950\n"
     ]
    }
   ],
   "source": [
    "#question no.22\n",
    "import re\n",
    "string='947,896,926,524,734,950,642'\n",
    "number = re.findall('\\d+', string)\n",
    "number = map(int, number)\n",
    "print(\"Max_value:\",max(number))"
   ]
  },
  {
   "cell_type": "code",
   "execution_count": null,
   "id": "20a5dac6",
   "metadata": {},
   "outputs": [],
   "source": [
    "#question number 8,11,14,18,28,29,30 not answered please help inthese questions"
   ]
  }
 ],
 "metadata": {
  "kernelspec": {
   "display_name": "Python 3 (ipykernel)",
   "language": "python",
   "name": "python3"
  },
  "language_info": {
   "codemirror_mode": {
    "name": "ipython",
    "version": 3
   },
   "file_extension": ".py",
   "mimetype": "text/x-python",
   "name": "python",
   "nbconvert_exporter": "python",
   "pygments_lexer": "ipython3",
   "version": "3.9.13"
  }
 },
 "nbformat": 4,
 "nbformat_minor": 5
}
